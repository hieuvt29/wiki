{
 "cells": [
  {
   "cell_type": "code",
   "execution_count": 1,
   "metadata": {},
   "outputs": [
    {
     "ename": "TraitError",
     "evalue": "Cannot set the undefined 'magnification' attribute of a 'WindowToImageFilter' object.",
     "output_type": "error",
     "traceback": [
      "\u001b[0;31m---------------------------------------------------------------------------\u001b[0m",
      "\u001b[0;31mTraitError\u001b[0m                                Traceback (most recent call last)",
      "\u001b[0;32m<ipython-input-1-eb79e563a608>\u001b[0m in \u001b[0;36m<module>\u001b[0;34m()\u001b[0m\n\u001b[1;32m     33\u001b[0m \u001b[0mmlab\u001b[0m\u001b[0;34m.\u001b[0m\u001b[0mpipeline\u001b[0m\u001b[0;34m.\u001b[0m\u001b[0msurface\u001b[0m\u001b[0;34m(\u001b[0m\u001b[0mtube\u001b[0m\u001b[0;34m,\u001b[0m \u001b[0mcolor\u001b[0m\u001b[0;34m=\u001b[0m\u001b[0;34m(\u001b[0m\u001b[0;36m0.8\u001b[0m\u001b[0;34m,\u001b[0m \u001b[0;36m0.8\u001b[0m\u001b[0;34m,\u001b[0m \u001b[0;36m0.8\u001b[0m\u001b[0;34m)\u001b[0m\u001b[0;34m)\u001b[0m\u001b[0;34m\u001b[0m\u001b[0m\n\u001b[1;32m     34\u001b[0m \u001b[0;34m\u001b[0m\u001b[0m\n\u001b[0;32m---> 35\u001b[0;31m \u001b[0mmlab\u001b[0m\u001b[0;34m.\u001b[0m\u001b[0msavefig\u001b[0m\u001b[0;34m(\u001b[0m\u001b[0;34m'mayavi2_spring.png'\u001b[0m\u001b[0;34m)\u001b[0m\u001b[0;34m\u001b[0m\u001b[0m\n\u001b[0m\u001b[1;32m     36\u001b[0m \u001b[0mmlab\u001b[0m\u001b[0;34m.\u001b[0m\u001b[0mshow\u001b[0m\u001b[0;34m(\u001b[0m\u001b[0;34m)\u001b[0m \u001b[0;31m# interactive window\u001b[0m\u001b[0;34m\u001b[0m\u001b[0m\n",
      "\u001b[0;32m/usr/local/lib/python2.7/dist-packages/mayavi/tools/figure.pyc\u001b[0m in \u001b[0;36msavefig\u001b[0;34m(filename, size, figure, magnification, **kwargs)\u001b[0m\n\u001b[1;32m    246\u001b[0m         figure.scene.save(filename,\n\u001b[1;32m    247\u001b[0m                             \u001b[0msize\u001b[0m\u001b[0;34m=\u001b[0m\u001b[0msize\u001b[0m\u001b[0;34m,\u001b[0m\u001b[0;34m\u001b[0m\u001b[0m\n\u001b[0;32m--> 248\u001b[0;31m                             **kwargs)\n\u001b[0m\u001b[1;32m    249\u001b[0m     \u001b[0;32mfinally\u001b[0m\u001b[0;34m:\u001b[0m\u001b[0;34m\u001b[0m\u001b[0m\n\u001b[1;32m    250\u001b[0m         \u001b[0mfigure\u001b[0m\u001b[0;34m.\u001b[0m\u001b[0mscene\u001b[0m\u001b[0;34m.\u001b[0m\u001b[0mmagnification\u001b[0m \u001b[0;34m=\u001b[0m \u001b[0mint\u001b[0m\u001b[0;34m(\u001b[0m\u001b[0mcurrent_mag\u001b[0m\u001b[0;34m)\u001b[0m\u001b[0;34m\u001b[0m\u001b[0m\n",
      "\u001b[0;32m/usr/local/lib/python2.7/dist-packages/tvtk/pyface/tvtk_scene.pyc\u001b[0m in \u001b[0;36msave\u001b[0;34m(self, file_name, size, **kw_args)\u001b[0m\n\u001b[1;32m    416\u001b[0m             \u001b[0mself\u001b[0m\u001b[0;34m.\u001b[0m\u001b[0m_record_methods\u001b[0m\u001b[0;34m(\u001b[0m\u001b[0;34m'save(%r, %r)'\u001b[0m\u001b[0;34m%\u001b[0m\u001b[0;34m(\u001b[0m\u001b[0mfile_name\u001b[0m\u001b[0;34m,\u001b[0m \u001b[0msize\u001b[0m\u001b[0;34m)\u001b[0m\u001b[0;34m)\u001b[0m\u001b[0;34m\u001b[0m\u001b[0m\n\u001b[1;32m    417\u001b[0m         \u001b[0;32melse\u001b[0m\u001b[0;34m:\u001b[0m\u001b[0;34m\u001b[0m\u001b[0m\n\u001b[0;32m--> 418\u001b[0;31m             \u001b[0mmeth\u001b[0m\u001b[0;34m(\u001b[0m\u001b[0mfile_name\u001b[0m\u001b[0;34m,\u001b[0m \u001b[0;34m**\u001b[0m\u001b[0mkw_args\u001b[0m\u001b[0;34m)\u001b[0m\u001b[0;34m\u001b[0m\u001b[0m\n\u001b[0m\u001b[1;32m    419\u001b[0m             \u001b[0mself\u001b[0m\u001b[0;34m.\u001b[0m\u001b[0m_record_methods\u001b[0m\u001b[0;34m(\u001b[0m\u001b[0;34m'save(%r)'\u001b[0m\u001b[0;34m%\u001b[0m\u001b[0;34m(\u001b[0m\u001b[0mfile_name\u001b[0m\u001b[0;34m)\u001b[0m\u001b[0;34m)\u001b[0m\u001b[0;34m\u001b[0m\u001b[0m\n\u001b[1;32m    420\u001b[0m \u001b[0;34m\u001b[0m\u001b[0m\n",
      "\u001b[0;32m/usr/local/lib/python2.7/dist-packages/tvtk/pyface/tvtk_scene.pyc\u001b[0m in \u001b[0;36msave_png\u001b[0;34m(self, file_name)\u001b[0m\n\u001b[1;32m    464\u001b[0m             w2if = tvtk.WindowToImageFilter(read_front_buffer=\n\u001b[1;32m    465\u001b[0m                                               not self.off_screen_rendering)\n\u001b[0;32m--> 466\u001b[0;31m             \u001b[0mw2if\u001b[0m\u001b[0;34m.\u001b[0m\u001b[0mmagnification\u001b[0m \u001b[0;34m=\u001b[0m \u001b[0mself\u001b[0m\u001b[0;34m.\u001b[0m\u001b[0mmagnification\u001b[0m\u001b[0;34m\u001b[0m\u001b[0m\n\u001b[0m\u001b[1;32m    467\u001b[0m             \u001b[0mself\u001b[0m\u001b[0;34m.\u001b[0m\u001b[0m_lift\u001b[0m\u001b[0;34m(\u001b[0m\u001b[0;34m)\u001b[0m\u001b[0;34m\u001b[0m\u001b[0m\n\u001b[1;32m    468\u001b[0m             \u001b[0mw2if\u001b[0m\u001b[0;34m.\u001b[0m\u001b[0minput\u001b[0m \u001b[0;34m=\u001b[0m \u001b[0mself\u001b[0m\u001b[0;34m.\u001b[0m\u001b[0m_renwin\u001b[0m\u001b[0;34m\u001b[0m\u001b[0m\n",
      "\u001b[0;31mTraitError\u001b[0m: Cannot set the undefined 'magnification' attribute of a 'WindowToImageFilter' object."
     ]
    }
   ],
   "source": [
    "import networkx as nx\n",
    "import numpy as np\n",
    "from mayavi import mlab\n",
    "mlab.options.offscreen = True\n",
    "\n",
    "# some graphs to try\n",
    "# H=nx.krackhardt_kite_graph()\n",
    "# H=nx.Graph();H.add_edge('a','b');H.add_edge('a','c');H.add_edge('a','d')\n",
    "# H=nx.grid_2d_graph(4,5)\n",
    "H = nx.cycle_graph(20)\n",
    "\n",
    "# reorder nodes from 0,len(G)-1\n",
    "G = nx.convert_node_labels_to_integers(H)\n",
    "# 3d spring layout\n",
    "pos = nx.spring_layout(G, dim=3)\n",
    "# numpy array of x,y,z positions in sorted node order\n",
    "xyz = np.array([pos[v] for v in sorted(G)])\n",
    "# scalar colors\n",
    "scalars = np.array(list(G.nodes())) + 5\n",
    "\n",
    "mlab.figure(1, bgcolor=(0, 0, 0))\n",
    "mlab.clf()\n",
    "\n",
    "pts = mlab.points3d(xyz[:, 0], xyz[:, 1], xyz[:, 2],\n",
    "                    scalars,\n",
    "                    scale_factor=0.1,\n",
    "                    scale_mode='none',\n",
    "                    colormap='Blues',\n",
    "                    resolution=20)\n",
    "\n",
    "pts.mlab_source.dataset.lines = np.array(list(G.edges()))\n",
    "tube = mlab.pipeline.tube(pts, tube_radius=0.01)\n",
    "mlab.pipeline.surface(tube, color=(0.8, 0.8, 0.8))\n",
    "\n",
    "# mlab.savefig('mayavi2_spring.png')\n",
    "mlab.show() # interactive window"
   ]
  }
 ],
 "metadata": {
  "kernelspec": {
   "display_name": "Python 2",
   "language": "python",
   "name": "python2"
  },
  "language_info": {
   "codemirror_mode": {
    "name": "ipython",
    "version": 2
   },
   "file_extension": ".py",
   "mimetype": "text/x-python",
   "name": "python",
   "nbconvert_exporter": "python",
   "pygments_lexer": "ipython2",
   "version": "2.7.14"
  }
 },
 "nbformat": 4,
 "nbformat_minor": 2
}
